{
 "cells": [
  {
   "cell_type": "markdown",
   "metadata": {},
   "source": [
    "## Python Crawler to scrap linkedin recent posts/activity of a user"
   ]
  },
  {
   "cell_type": "code",
   "execution_count": 1,
   "metadata": {},
   "outputs": [],
   "source": [
    "### Importing required libraries\n",
    "from selenium import webdriver\n",
    "from selenium.webdriver.firefox.options import Options\n",
    "from selenium.webdriver.common.by import By\n",
    "from bs4 import BeautifulSoup as bs4\n",
    "import re"
   ]
  },
  {
   "cell_type": "code",
   "execution_count": 2,
   "metadata": {},
   "outputs": [],
   "source": [
    "### browser params for selenium\n",
    "firefox_options = Options()\n",
    "firefox_options.add_argument(\"--incognito\")\n",
    "firefox_options.binary_location = r'C:\\Program Files\\Mozilla Firefox\\firefox.exe' ## give firefox exe path here\n"
   ]
  },
  {
   "cell_type": "code",
   "execution_count": 3,
   "metadata": {},
   "outputs": [
    {
     "name": "stderr",
     "output_type": "stream",
     "text": [
      "C:\\Users\\Yusra Shahid\\AppData\\Local\\Temp\\ipykernel_25572\\501550139.py:2: DeprecationWarning: executable_path has been deprecated, please pass in a Service object\n",
      "  driver = webdriver.Firefox(options=firefox_options, executable_path=r\"..\\driver\\geckodriver.exe\") ## path where driver is present\n"
     ]
    }
   ],
   "source": [
    "### running the webdriver\n",
    "driver = webdriver.Firefox(options=firefox_options, executable_path=r\"..\\driver\\geckodriver.exe\") ## path where driver is present"
   ]
  },
  {
   "cell_type": "code",
   "execution_count": 4,
   "metadata": {},
   "outputs": [],
   "source": [
    "import time\n",
    "url = \"https://linkedin.com/\"\n",
    "driver.get(url)\n",
    "time.sleep(2)"
   ]
  },
  {
   "cell_type": "code",
   "execution_count": 5,
   "metadata": {},
   "outputs": [],
   "source": [
    "### sign in to linkedin\n",
    "signInButton = driver.find_element(By.XPATH,\"/html/body/main/section[1]/div/div/form/button\")\n",
    "signInButton.click()"
   ]
  },
  {
   "cell_type": "code",
   "execution_count": null,
   "metadata": {},
   "outputs": [],
   "source": [
    "USERNAME = input(\"Enter the username: \")\n",
    "PASSWORD = input(\"Enter the password: \")\n",
    "print(USERNAME)\n"
   ]
  },
  {
   "cell_type": "code",
   "execution_count": 7,
   "metadata": {},
   "outputs": [],
   "source": [
    "email = driver.find_element(By.XPATH,'//*[@id=\"session_key\"]')\n",
    "email.send_keys(USERNAME)\n",
    "\n",
    "password = driver.find_element(By.XPATH,'//*[@id=\"session_password\"]')\n",
    "password.send_keys(PASSWORD)"
   ]
  },
  {
   "cell_type": "code",
   "execution_count": 8,
   "metadata": {},
   "outputs": [],
   "source": [
    "login = driver.find_element(By.XPATH,'/html/body/main/section[1]/div/div/form/button')\n",
    "login.click()"
   ]
  },
  {
   "cell_type": "code",
   "execution_count": 9,
   "metadata": {},
   "outputs": [
    {
     "name": "stdout",
     "output_type": "stream",
     "text": [
      "skip button not found\n"
     ]
    }
   ],
   "source": [
    "### in case there is a phone verification setup page this will skip it\n",
    "try:\n",
    "    skip = driver.find_element(By.XPATH,'/html/body/div[2]/div[1]/section/div[2]/div/article/footer/div/div/button[2]')\n",
    "    skip.click()\n",
    "except:\n",
    "    print(\"skip button not found\")"
   ]
  },
  {
   "cell_type": "code",
   "execution_count": 10,
   "metadata": {},
   "outputs": [],
   "source": [
    "### goto profile and then recent activity link\n",
    "profile = driver.find_element(By.XPATH,'/html/body/div[5]/div[3]/div/div/div[2]/div/div/div/div[1]/div[1]/a/div[2]')\n",
    "profile.click()"
   ]
  },
  {
   "cell_type": "code",
   "execution_count": 11,
   "metadata": {},
   "outputs": [],
   "source": [
    "activity = driver.find_elements(By.XPATH,'/html/body/div[5]/div[3]/div/div/div[2]/div/div/main/section[6]/div[3]/div/div/a')\n",
    "for my_href in activity:\n",
    "    activity_link = my_href.get_attribute(\"href\")"
   ]
  },
  {
   "cell_type": "code",
   "execution_count": 12,
   "metadata": {},
   "outputs": [],
   "source": [
    "driver.get(activity_link)\n",
    "time.sleep(5)"
   ]
  },
  {
   "cell_type": "markdown",
   "metadata": {},
   "source": [
    "#### getting posts that are gathered in 20 seconds of scroll"
   ]
  },
  {
   "cell_type": "code",
   "execution_count": 13,
   "metadata": {},
   "outputs": [],
   "source": [
    "start=time.time()\n",
    "n =20\n",
    "lastHeight = driver.execute_script(\"return document.body.scrollHeight\")\n",
    "while True:\n",
    "    driver.execute_script(\"window.scrollTo(0, document.body.scrollHeight);\")\n",
    "    time.sleep(5)\n",
    "    newHeight = driver.execute_script(\"return document.body.scrollHeight\")\n",
    "    if newHeight == lastHeight:\n",
    "        break\n",
    "    lastHeight = newHeight\n",
    "    end=time.time()\n",
    "    if round(end-start)>n:\n",
    "        break"
   ]
  },
  {
   "cell_type": "code",
   "execution_count": 14,
   "metadata": {},
   "outputs": [],
   "source": [
    "#posts = driver.find_elements(By.CLASS_NAME,\"scaffold-finite-scroll__content\")\n",
    "posts_source = driver.page_source \n",
    "linkedin_soup = bs4(posts_source.encode(\"utf-8\"), \"html\")\n",
    "linkedin_soup.prettify()\n",
    "containers = linkedin_soup.findAll(\"div\",{\"class\":\"ember-view occludable-update\"})"
   ]
  },
  {
   "cell_type": "code",
   "execution_count": 15,
   "metadata": {},
   "outputs": [],
   "source": [
    "p_text,urls =[],[]"
   ]
  },
  {
   "cell_type": "code",
   "execution_count": 16,
   "metadata": {},
   "outputs": [],
   "source": [
    "for container in containers:\n",
    "\n",
    "    try:\n",
    "        text_box = container.find(\"div\",{\"class\":\"feed-shared-update-v2__description-wrapper\"})\n",
    "        text = text_box.find(\"span\",{\"dir\":\"ltr\"})\n",
    "        post_text = text.text.strip()\n",
    "        p_text.append(post_text)\n",
    "        #print(post_text)\n",
    "        if \"https\" in post_text:\n",
    "            post_url = re.search(\"(?P<url>https?://[^\\s]+)\", post_text).group(\"url\")\n",
    "        else:\n",
    "            post_url = \"\"\n",
    "        #print(post_url)\n",
    "        urls.append(post_url)\n",
    "    except:\n",
    "        #print(text_box)\n",
    "        pass\n",
    "\n"
   ]
  },
  {
   "cell_type": "code",
   "execution_count": 23,
   "metadata": {},
   "outputs": [
    {
     "name": "stdout",
     "output_type": "stream",
     "text": [
      "total number of posts are:  24\n",
      "total number of urls are:  7\n"
     ]
    }
   ],
   "source": [
    "print(\"total number of posts are: \",len(p_text))\n",
    "print(\"total number of urls are: \",len(urls)-urls.count(\"\"))"
   ]
  },
  {
   "cell_type": "code",
   "execution_count": 19,
   "metadata": {},
   "outputs": [
    {
     "data": {
      "text/plain": [
       "['🚀 Want to build a fast and scalable MVP for your business or startup? 📈🤔 Not sure whether to use ReactJS or Flutter? 💻📱👨\\u200d💻 Join our webinar tomorrow with Flutter experts to learn about the pros and cons of each technology and make an informed decision for your digital transformation. 💡Speaker: Ishaq Hassan📅 Click here to join webinar: https://lnkd.in/d5bgi4Ab#ReactJS #Flutter #MVP #Startups #BusinessOwners #Webinar #TechDecisionMaking #DigitalTransformation #Scalability #startup #technology #business',\n",
       " 'In my Advanced Computer Vision class at UCF this semester, we are discussing latest papers on Diffusion Models, it has been very interesting to notice how fast the field is progressing: https://lnkd.in/eEmTTG-WVideos at: https://lnkd.in/e2uQ_JGj',\n",
       " \"Are you a business owner or an employer? Listen up! Here's what the future of work looks like:Remote Work: Remote work is no longer just a perk or an option, but a necessity in today's world. Companies are investing in the infrastructure and technology to support remote work, and employees are reaping the benefits of increased flexibility, reduced commute times, and a better work-life balance. Hiring remote workers? DM me.Four-Day Work Week: The four-day work week is gaining traction as a way to boost employee productivity and well-being. By giving employees an extra day off each week, they have more time to recharge, pursue hobbies, and spend time with loved ones. This can lead to increased job satisfaction, reduced stress, and improved mental health.Upskilling and Reskilling: As the job market continues to evolve, it is crucial for employees to stay ahead of the curve by learning new skills and adapting to new technologies. Companies are investing in upskilling and reskilling programs to help employees develop the skills they need to stay competitive in the job market.Employee Well-being: Employee well-being is becoming a top priority for companies, with a focus on creating a healthy and supportive work environment. This includes initiatives such as mental health support, flexible work arrangements, and opportunities for physical exercise and social connection.The future of work is all about flexibility, autonomy, and well-being. By embracing these trends, companies can create a work environment that empowers employees to do their best work, while also promoting a healthy work-life balance.#Futureofwork #Remotework #Remotejobs #KoiIn frame: A cute Airbnb balcony in Istanbul where I worked in 2021.\",\n",
       " 'Thanks a lot TPS Worldwide for this wonderful and sweet gesture for my little baby girl. Also, special thanks to the team HR for such initiatives. Azka Imran',\n",
       " 'Here Dr.-Ing. Syed Saqib Bukhari presented \"DNN Pruning and its Effects on Robustness\" which was a joint work done by Sven Mantowsky, Dr.-Ing.  Firas Mualla, Dr.-Ing. Syed Saqib Bukhari',\n",
       " 'If you are at Step this afternoon go meet our lovely Salt ladies! 👋',\n",
       " 'what a phenomenal team and a great talk on Hypertension management by #electrophysiologistDr Aamir Hameed Khan SIUT Mir Asghar Ali Khan Babar Hasan Shazia Mohsin Harrison Dean #team #management #cardiology #hypertension #pharmacology',\n",
       " \"Special delivery, extra cheese(grater): Our newest Hyperfine Swoop has arrived at SAHMRI! Good things come in small packages - read about NIF's world-first mobile MRI network with Monash Biomedical Imaging, Herston Imaging Research Facility, UQ Centre for Advanced Imaging, The University of Western Australia and Alfred Health: https://lnkd.in/gvHQDN5n\",\n",
       " 'Microsoft Research has released BioGPT, a large language model trained on biomedical research literature. The model achieves better-than-human performance on answering questions from the biomedical literature, as evaluated on PubMedQA. The code for the model has been publicly released, and the weights for the large 1.5B model are expected to be released soon as well.Link to the paper: https://lnkd.in/gMrCa7dcLink to the GitHub repo: https://lnkd.in/gzeXSEKz#ArtificialIntelligence #GenerateiveAI #LLM #LLMs #AI #NLP #DeepLearning',\n",
       " \"UNSW academics have been awarded more than $1.6m for joint Australian-US artificial intelligence research  ⚡ Congratulations to Haris Aziz, Flora Salim, Toby Walsh and the rest of the team on this incredible achievement - let's push the frontiers of AI research together! #AIresearch #artificialintelligence #UNSW #innovation #researchgrant #collaboration #science #technologyresearch #poweredbyunswMore details in comments below 👇\",\n",
       " 'Thanks to CSIRO and National Science Foundation (NSF) for supporting this important research on responsible use of AI at UNSW AI Institute',\n",
       " 'Hotstar crashed during the India-Australia test match. Hotstar boasts a huge concurrent users audience. A lot of people were watching the match at that time. This happened because Hotstar forgot to renew its domain and the domain expired.When a domain expires it becomes inactive immediately and all the services attached to it cease to function. You can’t make any updates to the domain while it is expired. The domain will remain available for reactivation at your regular domain rate under your list of Expired Domains.But, what do we mean by the domain getting expired? Did they not own the domain forever?\\xa0No, what’s wild is that when you purchase your domain name, you’re essentially renting it from a registrar. It’s yours to keep forever, so long as you continue to pay your renewal fees. If you forget to pay your fees within the allotted grace periods, you forfeit your opportunity for using that domain name, and anyone can come in and snag it.But, for some users who were watching the match continuously before this expiry happened, did not face any issues . Why ?It is because, once you start streaming, you start getting the data from the CDN and not the Hotstar servers. If their CDN would also have been on the same domain as their website, it would have crashed. But, this did not happen. If anyone refreshed, error will come, because now you will again do a domain lookup for Hotstar.I created a video talking about how CDNs play a role in streaming. Do give it a look:https://lnkd.in/gCVKv2xV#hotstar\\xa0#cdn\\xa0#systemdesign',\n",
       " 'We are still looking for Senior Data Science experts ready for a move to Dubai 🇦🇪 ✈️I am working with one of the largest e-commerce companies in the UAE looking to grow their Data Science team. Need to have strong experience in A/B testing and Experimentation.- Sr Data Science x3- Data Science Manager- Sr Data Science Manager- Director of Data Science If you are looking for a new opportunity and want to explore a move to sunny Dubai then please get in contact -\\xa0arvin@discovered.ae#dubai\\xa0#datascience',\n",
       " 'Happy Wednesday Women in Tech!Today I want to introduce you to another impressive member of our community\\xa0Myriam Bahja! 🎉We asked\\xa0Myriam\\xa0two questions, please find her answer below:-\\xa0\\xa0\\xa0\\xa0\\xa0\\xa0\\xa0Who are you and what is your passion?I am Myriam Bahja and I am a Cybersecurity and Tech consultant. I was born and raised in Lebanon, and I moved to France as part of a fellowship program in a top French engineering school. After almost 5 years of work experience in France, I decided to chase the sun and move to Dubai.At work, my passion is to help clients during their journey to achieve and maintain their cybersecurity/digital transformation by solving their strategic and business-critical challenges. \\xa0My drive comes from the impact my work can make on their decisions and the value I create for their business. I am also enthusiastic about emerging technologies such as blockchain, IoT, metaverse… I love learning about new tech topics and I could spend hours watching tech related videos. I believe that innovative technology can help us live in better connected and digitalized world.Outside work, I love spending time at the gym and making up new fitness recipes. I am as well passionate to learn about the history of humankind. \\xa0-\\xa0\\xa0\\xa0\\xa0\\xa0\\xa0\\xa0What is your key success factor for women in tech?\\xa0Be passionate about what you do and always strive for excellence instead of perfection. Never stop learning and put attainable objectives to evolve into. Be committed to your goals and believe in yourself. When you succeed, share your success and use it to elevate other women. It is very important to give girls, since an early age, role models to look up to. I was lucky to be surrounded by many inspiring women since I was I little girl and my first role model was my mom who thought me to be independent and always work hard and strive for excellence. \\xa0As well, I am part of the Women in Cyber Middle East community where I witnessed the great potential of women in this region. #cybersecurity #womenintechmiddleeast #elevatewomenintech #tech #digitaltransformation',\n",
       " 'Looking for a part time/freelance and remote HR coordinator. Flexible working hours. Should have excellent verbal and written communication skills. Send resume at mziasaleem1@gmail.com or get in touch via comments/dm.  #hr #remotework #freelance',\n",
       " \"We officially launched our new office premises on January 9th, 2023. Celebrating this momentous occasion with our employees, check out the inauguration video to see our new space and be part of this milestone. We can't wait to welcome you in person! #IntegrationXperts #IXOfficeInauguration #IXNewBeginnings #IXBusinessGrowth\",\n",
       " 'Interested in #surgicalAI? Code & model weights from our recent work on Surgical #SSL are available @ https://lnkd.in/eHRUsGsd Boost your performance for the upcoming @endo_vis challenge at #MICCAI2023.In our paper 👉 https://lnkd.in/eDdh8ngR  we investigate 4 SSL methods in the surgical domain, achieving SOTA performance on a wide array of surgical video analysis tasks. #SurgicalAI #SurgicalcomputervisionSanat R Deepak Alapatt Tong Yu Luca Sestini Chinedu Nwoye Idris Hamoud Saurav Sharma Georgios Exarchakis, Dr. rer. nat. Alexandros Karargyris Nicolas Padoy',\n",
       " \"Can't emphasise this enough!\",\n",
       " \"We were delighted to be a part of Talent Week, a program aimed at promoting and developing young, promising talent. The experience was incredible as we got to connect with driven and motivated individuals and explore ways to support their career growth!Want to boost your career? We've got you! Give us a shout on WhatsApp at +971 58 587 2997 to find out more.#Internships #Jobs #Careers #JobsinDubai #UAECareers #JobsinUAE #Internship #careeradvisor #careerchoices #careerconfidence #careerconfidenceboost #careerdecision #careerfair #careerfulfillment #careergrowth #careerhelp #careermistakes #careermotivation #growyourcareer #job #jobhunting #jobopportunity #GEMS #GEMSforlife\",\n",
       " \"How do you become a 𝗳𝘂𝗹𝗹-𝘀𝘁𝗮𝗰𝗸 𝗱𝗮𝘁𝗮 𝘀𝗰𝗶𝗲𝗻𝘁𝗶𝘀𝘁? Here are five books 📚 you should read this year 👇👇👇 Just knowing how to train a model on Jupyter notebook won't make you a pro in data science. You will need to learn about design patterns, ML Ops and data engineering.📚 Here are five books I read cover to cover 𝟭. 𝗠𝗮𝗰𝗵𝗶𝗻𝗲 𝗟𝗲𝗮𝗿𝗻𝗶𝗻𝗴 𝗘𝗻𝗴𝗶𝗻𝗲𝗲𝗿𝗶𝗻𝗴 𝗶𝗻 𝗔𝗰𝘁𝗶𝗼𝗻Hands down the most comprehensive book I have seen on ML engineering. Covers the theory and practical application of model deployment and monitoring.𝟮. 𝗗𝗲𝘀𝗶𝗴𝗻𝗶𝗻𝗴 𝗗𝗮𝘁𝗮-𝗜𝗻𝘁𝗲𝗻𝘀𝗶𝘃𝗲 𝗔𝗽𝗽𝗹𝗶𝗰𝗮𝘁𝗶𝗼𝗻𝘀An ML service is a component within a larger software architecture. Understanding how the system interacts with other applications is vital. This book helped me understand the basics of building an application with resilience and low latency.𝟯. 𝗗𝗲𝘀𝗶𝗴𝗻𝗶𝗻𝗴 𝗠𝗮𝗰𝗵𝗶𝗻𝗲 𝗟𝗲𝗮𝗿𝗻𝗶𝗻𝗴 𝗦𝘆𝘀𝘁𝗲𝗺𝘀This book covers the basis of ML Ops. Though I wouldn't say this is the book to read if you want hands-on examples of how to apply ML Ops (as opposed to the first book). Nonetheless, it covers all the conceptual grounds for you to understand how to build and apply ML Ops.𝟰. 𝗠𝗮𝗰𝗵𝗶𝗻𝗲 𝗟𝗲𝗮𝗿𝗻𝗶𝗻𝗴 𝗗𝗲𝘀𝗶𝗴𝗻 𝗣𝗮𝘁𝘁𝗲𝗿𝗻𝘀SWEs have best practices in coding. So should practitioners of ML. I reference this book often as I consider best practices on model orchestration steps (preprocessing, feature engineering, modeling and serving). This covers a lot of practical tips and useful examples.𝟱. 𝗙𝘂𝗻𝗱𝗮𝗺𝗲𝗻𝘁𝗮𝗹𝘀 𝗼𝗳 𝗗𝗮𝘁𝗮 𝗘𝗻𝗴𝗶𝗻𝗲𝗲𝗿𝗶𝗻𝗴Never overlook data engineering. Understanding the key principles of extracting, transforming and loading data in batch and real-time is crucial to know how to build an ML application. On top of that, oftentimes, early-stage startups often look for full-stack data scientists who understand how to build a data pipeline for models.🔹 Core concepts you should learn1. Batch Processing2. Real-Time Processing3. CAP Theorem4. ETL, ELT5. Distributed Systems6. Fault Tolerance7. API8. Load Balancer9. Model Deployment10. Model Monitoring🔹 Data-fluencers with solid tips you should check outDamien Benveniste, PhDAdam SrokaJoe Reis 🤓Chip HuyenBenjamin RogojanPan WuZach WilsonJash RadiaDaliana Liu--👉 If you want to learn practical tips on DS/ML/AI, follow\\xa0Daniel Lee👉 If you are a candidate, looking for your next dream job in data, Use promo 𝗗𝗮𝗻𝗗𝗦 to get 10% off on 𝗗𝗮𝘁𝗮𝗜𝗻𝘁𝗲𝗿𝘃𝗶𝗲𝘄[.]𝗰𝗼𝗺 🚀👉\\xa0If you are a startup founder looking to augment your app with ML and AI, message me for a free consultation: https://lnkd.in/epripz9X\",\n",
       " 'After watching series of YT videos by Alex Freberg, I analyzed and visualized this. I helped an imaginary airline analyze its customer satisfaction survey result. I downloaded the dataset from kaggle, analyzed with python and visualized with PowerBi. Corrections are welcome😀',\n",
       " 'I had the privilege of moderating a #webinar session on \"Learning Heterogeneous C++ with SYCL and #Intel #oneAPI \" with none other than the renowned author and expert in #parallel #programming , James Reinders who has more books on parallel programming under his belt than my total years of experience, he brought an unparalleled level of expertise to the session, sharing his latest insights from his latest book on SYCL. It was an engaging and enlightening experience, and I feel honored to have been a part of it.I would like to extend my sincerest thanks to Victoria Carman and Kavita Aroor for the opportunity and James Reinders for sharing his knowledge and insights with us and, and for making the session such a valuable and memorable experience. I also want to thank all the attendees for joining us and for the great questions and discussions during the session.If you missed the webinar, I highly recommend checking out James\\'s latest book on SYCL and diving into the exciting world of heterogeneous C++ programming.#iamintel #intel #oneAPI #SYCL',\n",
       " \"Last Friday, we had our first event with Women in Tech Middle East - our first Tech Brek by BCG Platinion! 🎉It was super inspiring to meet so many women across the region, shaping and changing the Tech world of tomorrow. While we had the opportunity to enjoy a delicious breakfast, we got to know each other and talked about our experiences working in Tech in the Middle East. I loved hearing each and everyone's story and how passionate everyone is about their profession. Thank you to all the Women in Tech that participated! It was great meeting you and I can't wait to see you at our next event again 💞\",\n",
       " \"Last Friday, we had our first event with Women in Tech Middle East - our first Tech Brek by BCG Platinion! 🎉It was super inspiring to meet so many women across the region, shaping and changing the Tech world of tomorrow. While we had the opportunity to enjoy a delicious breakfast, we got to know each other and talked about our experiences working in Tech in the Middle East. I loved hearing each and everyone's story and how passionate everyone is about their profession. Thank you to all the Women in Tech that participated! It was great meeting you and I can't wait to see you at our next event again 💞\"]"
      ]
     },
     "execution_count": 19,
     "metadata": {},
     "output_type": "execute_result"
    }
   ],
   "source": [
    "p_text"
   ]
  },
  {
   "cell_type": "code",
   "execution_count": 22,
   "metadata": {},
   "outputs": [
    {
     "data": {
      "text/plain": [
       "['https://lnkd.in/d5bgi4Ab#ReactJS',\n",
       " 'https://lnkd.in/eEmTTG-WVideos',\n",
       " '',\n",
       " '',\n",
       " '',\n",
       " '',\n",
       " '',\n",
       " 'https://lnkd.in/gvHQDN5n',\n",
       " 'https://lnkd.in/gMrCa7dcLink',\n",
       " '',\n",
       " '',\n",
       " 'https://lnkd.in/gCVKv2xV#hotstar',\n",
       " '',\n",
       " '',\n",
       " '',\n",
       " '',\n",
       " 'https://lnkd.in/eHRUsGsd',\n",
       " '',\n",
       " '',\n",
       " 'https://lnkd.in/epripz9X',\n",
       " '',\n",
       " '',\n",
       " '',\n",
       " '']"
      ]
     },
     "execution_count": 22,
     "metadata": {},
     "output_type": "execute_result"
    }
   ],
   "source": [
    "urls"
   ]
  },
  {
   "cell_type": "code",
   "execution_count": null,
   "metadata": {},
   "outputs": [],
   "source": []
  }
 ],
 "metadata": {
  "kernelspec": {
   "display_name": "crawler",
   "language": "python",
   "name": "crawler"
  },
  "language_info": {
   "codemirror_mode": {
    "name": "ipython",
    "version": 3
   },
   "file_extension": ".py",
   "mimetype": "text/x-python",
   "name": "python",
   "nbconvert_exporter": "python",
   "pygments_lexer": "ipython3",
   "version": "3.8.16"
  }
 },
 "nbformat": 4,
 "nbformat_minor": 4
}
