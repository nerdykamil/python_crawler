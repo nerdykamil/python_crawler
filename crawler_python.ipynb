{
 "cells": [
  {
   "cell_type": "markdown",
   "metadata": {},
   "source": [
    "## Python Crawler to scrap linkedin recent posts/activity of a user"
   ]
  },
  {
   "cell_type": "code",
   "execution_count": 1,
   "metadata": {},
   "outputs": [],
   "source": [
    "### Importing required libraries\n",
    "from selenium import webdriver\n",
    "from selenium.webdriver.firefox.options import Options\n",
    "from selenium.webdriver.common.by import By\n",
    "from bs4 import BeautifulSoup as bs4\n",
    "import re"
   ]
  },
  {
   "cell_type": "code",
   "execution_count": 2,
   "metadata": {},
   "outputs": [],
   "source": [
    "### browser params for selenium\n",
    "firefox_options = Options()\n",
    "firefox_options.add_argument(\"--incognito\")\n",
    "firefox_options.binary_location = r'C:\\Program Files\\Mozilla Firefox\\firefox.exe' ## give firefox exe path here\n"
   ]
  },
  {
   "cell_type": "code",
   "execution_count": 3,
   "metadata": {},
   "outputs": [
    {
     "name": "stderr",
     "output_type": "stream",
     "text": [
      "C:\\Users\\Yusra Shahid\\AppData\\Local\\Temp;C\\conda_tmp\\ipykernel_24512\\501550139.py:2: DeprecationWarning: executable_path has been deprecated, please pass in a Service object\n",
      "  driver = webdriver.Firefox(options=firefox_options, executable_path=r\"..\\driver\\geckodriver.exe\") ## path where driver is present\n"
     ]
    }
   ],
   "source": [
    "### running the webdriver\n",
    "driver = webdriver.Firefox(options=firefox_options, executable_path=r\"..\\driver\\geckodriver.exe\") ## path where driver is present"
   ]
  },
  {
   "cell_type": "code",
   "execution_count": 4,
   "metadata": {},
   "outputs": [],
   "source": [
    "import time\n",
    "url = \"https://linkedin.com/\"\n",
    "driver.get(url)\n",
    "time.sleep(2)"
   ]
  },
  {
   "cell_type": "code",
   "execution_count": 5,
   "metadata": {},
   "outputs": [],
   "source": [
    "### sign in to linkedin\n",
    "signInButton = driver.find_element(By.XPATH,\"/html/body/main/section[1]/div/div/form/button\")\n",
    "signInButton.click()"
   ]
  },
  {
   "cell_type": "code",
   "execution_count": 6,
   "metadata": {},
   "outputs": [
    {
     "name": "stdout",
     "output_type": "stream",
     "text": [
      "Enter the username: Sheikh.hsk@gmail.com\n",
      "Enter the password: halasexiesyolo12\n",
      "Sheikh.hsk@gmail.com\n"
     ]
    }
   ],
   "source": [
    "USERNAME = input(\"Enter the username: \")\n",
    "PASSWORD = input(\"Enter the password: \")\n",
    "print(USERNAME)\n"
   ]
  },
  {
   "cell_type": "code",
   "execution_count": 7,
   "metadata": {},
   "outputs": [],
   "source": [
    "email = driver.find_element(By.XPATH,'//*[@id=\"session_key\"]')\n",
    "email.send_keys(USERNAME)\n",
    "\n",
    "password = driver.find_element(By.XPATH,'//*[@id=\"session_password\"]')\n",
    "password.send_keys(PASSWORD)"
   ]
  },
  {
   "cell_type": "code",
   "execution_count": 8,
   "metadata": {},
   "outputs": [],
   "source": [
    "login = driver.find_element(By.XPATH,'/html/body/main/section[1]/div/div/form/button')\n",
    "login.click()"
   ]
  },
  {
   "cell_type": "code",
   "execution_count": 9,
   "metadata": {},
   "outputs": [],
   "source": [
    "### in case there is a phone verification setup page this will skip it\n",
    "try:\n",
    "    skip = driver.find_element(By.XPATH,'/html/body/div[2]/div[1]/section/div[2]/div/article/footer/div/div/button[2]')\n",
    "    skip.click()\n",
    "except:\n",
    "    print(\"skip button not found\")"
   ]
  },
  {
   "cell_type": "code",
   "execution_count": 11,
   "metadata": {},
   "outputs": [],
   "source": [
    "### goto profile and then recent activity link\n",
    "##profile = driver.find_element(By.XPATH,'/html/body/div[5]/div[3]/div/div/div[2]/div/div/div/div[1]/div[1]/a/div[2]')\n",
    "profile = driver.find_element(By.CSS_SELECTOR,'div.t-16:nth-child(2)')\n",
    "profile.click()"
   ]
  },
  {
   "cell_type": "code",
   "execution_count": 12,
   "metadata": {},
   "outputs": [],
   "source": [
    "activity = driver.find_elements(By.XPATH,'/html/body/div[5]/div[3]/div/div/div[2]/div/div/main/section[6]/div[3]/div/div/a')\n",
    "for my_href in activity:\n",
    "    activity_link = my_href.get_attribute(\"href\")"
   ]
  },
  {
   "cell_type": "code",
   "execution_count": 13,
   "metadata": {},
   "outputs": [],
   "source": [
    "driver.get(activity_link)\n",
    "time.sleep(5)"
   ]
  },
  {
   "cell_type": "markdown",
   "metadata": {},
   "source": [
    "#### getting posts that are gathered in 20 seconds of scroll"
   ]
  },
  {
   "cell_type": "code",
   "execution_count": 14,
   "metadata": {},
   "outputs": [],
   "source": [
    "start=time.time()\n",
    "n =20\n",
    "lastHeight = driver.execute_script(\"return document.body.scrollHeight\")\n",
    "while True:\n",
    "    driver.execute_script(\"window.scrollTo(0, document.body.scrollHeight);\")\n",
    "    time.sleep(5)\n",
    "    newHeight = driver.execute_script(\"return document.body.scrollHeight\")\n",
    "    if newHeight == lastHeight:\n",
    "        break\n",
    "    lastHeight = newHeight\n",
    "    end=time.time()\n",
    "    if round(end-start)>n:\n",
    "        break"
   ]
  },
  {
   "cell_type": "code",
   "execution_count": 15,
   "metadata": {},
   "outputs": [],
   "source": [
    "#posts = driver.find_elements(By.CLASS_NAME,\"scaffold-finite-scroll__content\")\n",
    "posts_source = driver.page_source \n",
    "linkedin_soup = bs4(posts_source.encode(\"utf-8\"), \"html\")\n",
    "linkedin_soup.prettify()\n",
    "containers = linkedin_soup.findAll(\"div\",{\"class\":\"ember-view occludable-update\"})"
   ]
  },
  {
   "cell_type": "code",
   "execution_count": 16,
   "metadata": {},
   "outputs": [],
   "source": [
    "p_text,urls =[],[]"
   ]
  },
  {
   "cell_type": "code",
   "execution_count": 17,
   "metadata": {},
   "outputs": [],
   "source": [
    "for container in containers:\n",
    "\n",
    "    try:\n",
    "        text_box = container.find(\"div\",{\"class\":\"feed-shared-update-v2__description-wrapper\"})\n",
    "        text = text_box.find(\"span\",{\"dir\":\"ltr\"})\n",
    "        post_text = text.text.strip()\n",
    "        p_text.append(post_text)\n",
    "        #print(post_text)\n",
    "        if \"https\" in post_text:\n",
    "            post_url = re.search(\"(?P<url>https?://[^\\s]+)\", post_text).group(\"url\")\n",
    "        else:\n",
    "            post_url = \"\"\n",
    "        #print(post_url)\n",
    "        urls.append(post_url)\n",
    "    except:\n",
    "        #print(text_box)\n",
    "        pass\n",
    "\n"
   ]
  },
  {
   "cell_type": "code",
   "execution_count": 18,
   "metadata": {},
   "outputs": [
    {
     "name": "stdout",
     "output_type": "stream",
     "text": [
      "total number of posts are:  4\n",
      "total number of urls are:  1\n"
     ]
    }
   ],
   "source": [
    "print(\"total number of posts are: \",len(p_text))\n",
    "print(\"total number of urls are: \",len(urls)-urls.count(\"\"))"
   ]
  },
  {
   "cell_type": "code",
   "execution_count": 19,
   "metadata": {},
   "outputs": [
    {
     "data": {
      "text/plain": [
       "[\"Another tip for people interested in jobs outside Pakistan:We are generally good developers but what we lack is problem-solving techniques, especially the patterns that can be used to resolve a certain kind of problem.In Pakistan, we mostly work on start-ups or projects which at max last for one year, but this has a very big downside, we don't learn how to evolve the product as it grows.To bridge this gap prepare for Architecture Design Interviews that will help you see the bigger problems before you even start your project.#techinterview #interviewtips #softwaredevelopment #gethired\",\n",
       " \"Celebrating one of our top performer! We are proud to reward Wasi Tariq with the keys to his brand new car as a token of appreciation for his hard work and dedication for the company. Keep driving success! 💯Congratulations on the new set of wheels, now let's see if you can handle the horsepower. 🔥#Folio3 #EmployeeAppreciation #MotivationMonday #CompanyCulture\",\n",
       " 'Since June 2022, we have kept a close eye on inflation, and adjusted every employee\\'s salary each month. In January 2023, as US Dollar jumps to 267, more inflation is anticipated than ever before. So for the salaries of January 2023, we have introduced up to 45% temporary inflation adjustments in order to absorb the pressure ourselves, bi\\'iznillah. Those with lower salaries have been awarded comparatively higher adjustment percentages.As always, we would like to remind the fortunate ones to take care of those less fortunate than them.Prophet Muhammad (blessings and peace of Allah be upon him) said, \"Charity does not decrease wealth [...]\".[1]There came a man to the Prophet (blessings and peace of Allah be upon him) and said, \"O Messenger of Allah, which charity is the most rewardable?\" He (blessings and peace of Allah be upon him) said, \"That you should give charity (in a state when you are) healthy and stingy and fear poverty, hoping to become rich [...]\".[2][1] https://lnkd.in/dsYQ75Cx[2] https://lnkd.in/di7-wY_K#teraception #lifeatteraception #alhamdulillah #inflation #culturematters #dollar',\n",
       " 'This week I’m beginning a new journey as a Senior Software Engineer at Folio3 Software. I can’t wait to grow and explore what’s to come. Thank you Aman Ullah, Asfiya Hashim, Rafat M., Mahnoor Sajid for helping me out, making my onboarding and first day at work smooth.I want to especially thank Zia Saleem and Faryal Zuberi for their incredible support over the past two years and wish Bryt all the success as I set about dreaming of a new beginning!']"
      ]
     },
     "execution_count": 19,
     "metadata": {},
     "output_type": "execute_result"
    }
   ],
   "source": [
    "p_text"
   ]
  },
  {
   "cell_type": "code",
   "execution_count": 20,
   "metadata": {},
   "outputs": [
    {
     "data": {
      "text/plain": [
       "['', '', 'https://lnkd.in/dsYQ75Cx[2]', '']"
      ]
     },
     "execution_count": 20,
     "metadata": {},
     "output_type": "execute_result"
    }
   ],
   "source": [
    "urls"
   ]
  },
  {
   "cell_type": "code",
   "execution_count": 21,
   "metadata": {},
   "outputs": [],
   "source": [
    "### goto profile and then recent activity link\n",
    "profile = driver.find_element(By.XPATH,'/html/body/div[5]/div[3]/div/div/div[2]/div/div/div/div[1]/div[1]/a/div[2]')\n",
    "## profile = driver.find_element(By.CSS_SELECTOR,'div.t-16:nth-child(2)')\n",
    "profile.click()"
   ]
  },
  {
   "cell_type": "code",
   "execution_count": null,
   "metadata": {},
   "outputs": [],
   "source": []
  }
 ],
 "metadata": {
  "kernelspec": {
   "display_name": "crawler",
   "language": "python",
   "name": "crawler"
  },
  "language_info": {
   "codemirror_mode": {
    "name": "ipython",
    "version": 3
   },
   "file_extension": ".py",
   "mimetype": "text/x-python",
   "name": "python",
   "nbconvert_exporter": "python",
   "pygments_lexer": "ipython3",
   "version": "3.8.16"
  }
 },
 "nbformat": 4,
 "nbformat_minor": 4
}
