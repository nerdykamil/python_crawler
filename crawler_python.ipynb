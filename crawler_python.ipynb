{
 "cells": [
  {
   "cell_type": "markdown",
   "metadata": {},
   "source": [
    "## Python Crawler to scrap linkedin recent posts/activity of a user"
   ]
  },
  {
   "cell_type": "code",
   "execution_count": 88,
   "metadata": {},
   "outputs": [],
   "source": [
    "### Importing required libraries\n",
    "from selenium import webdriver\n",
    "from selenium.webdriver.firefox.options import Options\n",
    "from selenium.webdriver.common.by import By\n",
    "from bs4 import BeautifulSoup as bs4\n",
    "import re\n",
    "from collections import Counter\n",
    "import os"
   ]
  },
  {
   "cell_type": "code",
   "execution_count": 89,
   "metadata": {},
   "outputs": [],
   "source": [
    "### browser params for selenium\n",
    "firefox_options = Options()\n",
    "firefox_options.add_argument(\"--incognito\")\n",
    "firefox_options.binary_location = r'C:\\Program Files\\Mozilla Firefox\\firefox.exe' ## give firefox exe path here\n"
   ]
  },
  {
   "cell_type": "code",
   "execution_count": 90,
   "metadata": {},
   "outputs": [
    {
     "name": "stderr",
     "output_type": "stream",
     "text": [
      "C:\\Users\\Yusra Shahid\\AppData\\Local\\Temp;C\\conda_tmp\\ipykernel_2228\\501550139.py:2: DeprecationWarning: executable_path has been deprecated, please pass in a Service object\n",
      "  driver = webdriver.Firefox(options=firefox_options, executable_path=r\"..\\driver\\geckodriver.exe\") ## path where driver is present\n"
     ]
    }
   ],
   "source": [
    "### running the webdriver\n",
    "driver = webdriver.Firefox(options=firefox_options, executable_path=r\"..\\driver\\geckodriver.exe\") ## path where driver is present"
   ]
  },
  {
   "cell_type": "code",
   "execution_count": 91,
   "metadata": {},
   "outputs": [],
   "source": [
    "import time\n",
    "url = \"https://linkedin.com/\"\n",
    "driver.get(url)\n",
    "time.sleep(2)"
   ]
  },
  {
   "cell_type": "code",
   "execution_count": 92,
   "metadata": {},
   "outputs": [],
   "source": [
    "### sign in to linkedin\n",
    "signInButton = driver.find_element(By.XPATH,\"/html/body/main/section[1]/div/form[1]/div[2]/button\")\n",
    "signInButton.click()\n"
   ]
  },
  {
   "cell_type": "code",
   "execution_count": 93,
   "metadata": {},
   "outputs": [
    {
     "name": "stdout",
     "output_type": "stream",
     "text": [
      "Enter the username: yusra_shahid95@hotmail.com\n",
      "Enter the password: 26June1995!\n",
      "yusra_shahid95@hotmail.com\n"
     ]
    }
   ],
   "source": [
    "USERNAME = input(\"Enter the username: \")\n",
    "PASSWORD = input(\"Enter the password: \")\n",
    "print(USERNAME)\n"
   ]
  },
  {
   "cell_type": "code",
   "execution_count": 94,
   "metadata": {},
   "outputs": [],
   "source": [
    "email = driver.find_element(By.XPATH,'//*[@id=\"session_key\"]')\n",
    "email.send_keys(USERNAME)\n",
    "\n",
    "password = driver.find_element(By.XPATH,'//*[@id=\"session_password\"]')\n",
    "password.send_keys(PASSWORD)"
   ]
  },
  {
   "cell_type": "code",
   "execution_count": 95,
   "metadata": {},
   "outputs": [],
   "source": [
    "login = driver.find_element(By.XPATH,'/html/body/main/section[1]/div/form[1]/div[2]/button')\n",
    "login.click()"
   ]
  },
  {
   "cell_type": "code",
   "execution_count": 96,
   "metadata": {},
   "outputs": [
    {
     "name": "stdout",
     "output_type": "stream",
     "text": [
      "skip button not found\n"
     ]
    }
   ],
   "source": [
    "### in case there is a phone verification setup page this will skip it\n",
    "try:\n",
    "    skip = driver.find_element(By.XPATH,'/html/body/div[2]/div[1]/section/div[2]/div/article/footer/div/div/button[2]')\n",
    "    skip.click()\n",
    "except:\n",
    "    print(\"skip button not found\")"
   ]
  },
  {
   "cell_type": "code",
   "execution_count": 97,
   "metadata": {},
   "outputs": [],
   "source": [
    "### goto profile and then recent activity link\n",
    "own_profile = driver.find_element(By.XPATH,'/html/body/div[5]/div[3]/div/div/div[2]/div/div/div/div[1]/div[1]/a/div[2]')\n",
    "##profile = driver.find_element(By.CSS_SELECTOR,'div.t-16:nth-child(2)')\n",
    "own_profile.click()"
   ]
  },
  {
   "cell_type": "code",
   "execution_count": 98,
   "metadata": {},
   "outputs": [],
   "source": [
    "activity = driver.find_elements(By.XPATH,'/html/body/div[5]/div[3]/div/div/div[2]/div/div/main/section[6]/div[3]/div/div/a')\n",
    "for my_href in activity:\n",
    "    activity_link = my_href.get_attribute(\"href\")"
   ]
  },
  {
   "cell_type": "code",
   "execution_count": 99,
   "metadata": {},
   "outputs": [],
   "source": [
    "## function to scrape profiles\n",
    "def get_recent_activity(profile):\n",
    "    prof_link = profile + \"/recent-activity/\"\n",
    "    driver.get(prof_link)\n",
    "    print(\"Scrapping activity of {}\".format(profile))\n",
    "    #### getting posts that are gathered in 20 seconds of scroll\n",
    "    start=time.time()\n",
    "    n =20\n",
    "    lastHeight = driver.execute_script(\"return document.body.scrollHeight\")\n",
    "    while True:\n",
    "        driver.execute_script(\"window.scrollTo(0, document.body.scrollHeight);\")\n",
    "        time.sleep(5)\n",
    "        newHeight = driver.execute_script(\"return document.body.scrollHeight\")\n",
    "        if newHeight == lastHeight:\n",
    "            break\n",
    "        lastHeight = newHeight\n",
    "        end=time.time()\n",
    "        if round(end-start)>n:\n",
    "            break\n",
    "        #posts = driver.find_elements(By.CLASS_NAME,\"scaffold-finite-scroll__content\")\n",
    "    posts_source = driver.page_source \n",
    "    linkedin_soup = bs4(posts_source.encode(\"utf-8\"), \"html\")\n",
    "    linkedin_soup.prettify()\n",
    "    containers = linkedin_soup.findAll(\"div\",{\"class\":\"ember-view occludable-update\"})\n",
    "    conn_names = Counter()\n",
    "    p_text,urls =[],[]\n",
    "    for container in containers:\n",
    "\n",
    "        try:\n",
    "            ## get poster's name\n",
    "            name_box = container.find(\"div\",{\"class\":\"update-components-actor\"})\n",
    "            name = name_box.find(\"a\")['href'].split(\"?\")[0]\n",
    "            #name  = name.text.strip()\n",
    "            conn_names.update([name]) \n",
    "            text_box = container.find(\"div\",{\"class\":\"feed-shared-update-v2__description-wrapper\"})\n",
    "            text = text_box.find(\"span\",{\"dir\":\"ltr\"})\n",
    "            post_text = text.text.strip()\n",
    "            p_text.append(post_text)\n",
    "            #print(post_text)\n",
    "            if \"https\" in post_text:\n",
    "                post_url = re.findall(\"(?P<url>https?://[^\\s]+)\", post_text)\n",
    "            else:\n",
    "                post_url = \"\"\n",
    "            #print(post_url)\n",
    "            urls.append(post_url)\n",
    "        except:\n",
    "            #print(text_box)\n",
    "            pass\n",
    "    print(\"total number of posts are: \",len(p_text))\n",
    "    print(\"total number of urls are: \",len(urls)-urls.count(\"\"))\n",
    "    print(\"interacted with whom\",conn_names)\n",
    "    return p_text,urls,conn_names\n"
   ]
  },
  {
   "cell_type": "code",
   "execution_count": 100,
   "metadata": {},
   "outputs": [
    {
     "name": "stdout",
     "output_type": "stream",
     "text": [
      "Scrapping activity of https://www.linkedin.com/in/yusra-shahid\n",
      "total number of posts are:  22\n",
      "total number of urls are:  5\n",
      "interacted with whom Counter({'https://www.linkedin.com/in/yusra-shahid': 4, 'https://www.linkedin.com/in/rahulneelmani': 1, 'https://www.linkedin.com/in/ali-bhayani': 1, 'https://www.linkedin.com/in/ido-lev-ran-3b67205': 1, 'https://www.linkedin.com/in/hesham-farag-b3218052': 1, 'https://www.linkedin.com/in/ashishpatel2604/profile-video/view/urn%3Ali%3Afsd%5Fstory%3Aurn%3Ali%3Astory%3AACoAAATOnMIBYFNuqVOB33Dkrrhcd4bGpGp6FIM': 1, 'https://www.linkedin.com/in/airockstar': 1, 'https://www.linkedin.com/in/maksym-nechepurenko-23541810': 1, 'https://www.linkedin.com/in/inshatazeen': 1, 'https://www.linkedin.com/in/zahrakhan12': 1, 'https://www.linkedin.com/in/annaradulovski': 1, 'https://www.linkedin.com/in/milyasyousuf': 1, 'https://www.linkedin.com/in/eczachly': 1, 'https://www.linkedin.com/in/emanuelefabbiani': 1, 'https://www.linkedin.com/company/ucfcrcv/': 1, 'https://www.linkedin.com/in/laillab': 1, 'https://www.linkedin.com/in/neiharikarajiv': 1, 'https://www.linkedin.com/in/muhammad-yaseen-aftab': 1, 'https://www.linkedin.com/in/syedsaqibbukhari': 1})\n"
     ]
    }
   ],
   "source": [
    "##print(activity_link)\n",
    "#driver.get(activity_link)\n",
    "#time.sleep(5)\n",
    "own_profile = activity_link.replace(\"/recent-activity/\",\"\")\n",
    "p_text,urls,conn_names = get_recent_activity(own_profile)"
   ]
  },
  {
   "cell_type": "code",
   "execution_count": 101,
   "metadata": {},
   "outputs": [
    {
     "data": {
      "text/plain": [
       "Counter({'https://www.linkedin.com/in/rahulneelmani': 1,\n",
       "         'https://www.linkedin.com/in/ali-bhayani': 1,\n",
       "         'https://www.linkedin.com/in/ido-lev-ran-3b67205': 1,\n",
       "         'https://www.linkedin.com/in/hesham-farag-b3218052': 1,\n",
       "         'https://www.linkedin.com/in/ashishpatel2604/profile-video/view/urn%3Ali%3Afsd%5Fstory%3Aurn%3Ali%3Astory%3AACoAAATOnMIBYFNuqVOB33Dkrrhcd4bGpGp6FIM': 1,\n",
       "         'https://www.linkedin.com/in/airockstar': 1,\n",
       "         'https://www.linkedin.com/in/maksym-nechepurenko-23541810': 1,\n",
       "         'https://www.linkedin.com/in/inshatazeen': 1,\n",
       "         'https://www.linkedin.com/in/zahrakhan12': 1,\n",
       "         'https://www.linkedin.com/in/annaradulovski': 1,\n",
       "         'https://www.linkedin.com/in/milyasyousuf': 1,\n",
       "         'https://www.linkedin.com/in/eczachly': 1,\n",
       "         'https://www.linkedin.com/in/emanuelefabbiani': 1,\n",
       "         'https://www.linkedin.com/company/ucfcrcv/': 1,\n",
       "         'https://www.linkedin.com/in/laillab': 1,\n",
       "         'https://www.linkedin.com/in/neiharikarajiv': 1,\n",
       "         'https://www.linkedin.com/in/muhammad-yaseen-aftab': 1,\n",
       "         'https://www.linkedin.com/in/syedsaqibbukhari': 1})"
      ]
     },
     "execution_count": 101,
     "metadata": {},
     "output_type": "execute_result"
    }
   ],
   "source": [
    "del conn_names[own_profile]\n",
    "conn_names"
   ]
  },
  {
   "cell_type": "code",
   "execution_count": null,
   "metadata": {},
   "outputs": [
    {
     "name": "stdout",
     "output_type": "stream",
     "text": [
      "Scrapping activity of https://www.linkedin.com/in/rahulneelmani\n",
      "total number of posts are:  18\n",
      "total number of urls are:  0\n",
      "interacted with whom Counter({'https://www.linkedin.com/in/rahulneelmani': 12, 'https://www.linkedin.com/in/pooja-agrawalla': 2, 'https://www.linkedin.com/in/drrajiyer': 2, 'https://www.linkedin.com/in/abhijeet-ajoynil-074b0015': 1, 'https://www.linkedin.com/in/sarajitjha': 1})\n",
      "Scrapping activity of https://www.linkedin.com/in/ali-bhayani\n",
      "total number of posts are:  20\n",
      "total number of urls are:  6\n",
      "interacted with whom Counter({'https://www.linkedin.com/company/cloud-shuttle/': 11, 'https://www.linkedin.com/in/ali-bhayani': 2, 'https://www.linkedin.com/in/peterhanssens': 2, 'https://www.linkedin.com/in/iyanaarmstrong': 1, 'https://www.linkedin.com/in/mohammedalimcs': 1, 'https://www.linkedin.com/in/haoyu-martin': 1, 'https://www.linkedin.com/in/muhammad-raza-b-0a37751a0': 1, 'https://www.linkedin.com/in/rashid-mohammed-1a19a6179': 1, 'https://www.linkedin.com/in/mubashir-tariq-8bb65714b': 1, 'https://www.linkedin.com/in/melanie-gruben': 1})\n",
      "Scrapping activity of https://www.linkedin.com/in/ido-lev-ran-3b67205\n",
      "total number of posts are:  17\n",
      "total number of urls are:  15\n",
      "interacted with whom Counter({'https://www.linkedin.com/in/ido-lev-ran-3b67205': 14, 'https://www.linkedin.com/in/shir-eilat': 1, 'https://www.linkedin.com/in/gonenfink': 1, 'https://www.linkedin.com/in/roeeschein': 1, 'https://www.linkedin.com/in/susanweinschenk': 1})\n",
      "Scrapping activity of https://www.linkedin.com/in/hesham-farag-b3218052\n",
      "total number of posts are:  20\n",
      "total number of urls are:  2\n",
      "interacted with whom Counter({'https://www.linkedin.com/in/hesham-farag-b3218052': 6, 'https://www.linkedin.com/in/malaz-mubaid-31587795': 2, 'https://www.linkedin.com/in/abdulrahman-bukhari-2779873b': 2, 'https://www.linkedin.com/in/ido-lev-ran-3b67205': 1, 'https://www.linkedin.com/in/alaaeltayeb': 1, 'https://www.linkedin.com/in/rassel': 1, 'https://www.linkedin.com/in/solimanshaban': 1, 'https://www.linkedin.com/in/sherifamin91': 1, 'https://www.linkedin.com/in/saif-al-suwaidi-21a96640': 1, 'https://www.linkedin.com/in/ahmedamoneim': 1, 'https://www.linkedin.com/company/blackstoneeit/': 1, 'https://www.linkedin.com/company/nybl/': 1, 'https://www.linkedin.com/in/vijay-jethani-64684313': 1, 'https://www.linkedin.com/in/sivaprasad2020': 1, 'https://www.linkedin.com/in/vijayashreeravindranathan': 1})\n",
      "Scrapping activity of https://www.linkedin.com/in/ashishpatel2604/profile-video/view/urn%3Ali%3Afsd%5Fstory%3Aurn%3Ali%3Astory%3AACoAAATOnMIBYFNuqVOB33Dkrrhcd4bGpGp6FIM\n",
      "total number of posts are:  0\n",
      "total number of urls are:  0\n",
      "interacted with whom Counter()\n",
      "Scrapping activity of https://www.linkedin.com/in/airockstar\n",
      "total number of posts are:  15\n",
      "total number of urls are:  6\n",
      "interacted with whom Counter({'https://www.linkedin.com/in/airockstar': 8, 'https://www.linkedin.com/in/anthony-elliott-a598398': 2, 'https://www.linkedin.com/company/innovationaus/': 2, 'https://www.linkedin.com/in/rahulneelmani': 1, 'https://www.linkedin.com/company/trans-tasman-business-circle/': 1, 'https://www.linkedin.com/company/national-ai-centre/': 1, 'https://www.linkedin.com/company/unsw-ai-institute/': 1, 'https://www.linkedin.com/in/joanna-batstone-phd-005154a': 1, 'https://www.linkedin.com/in/dr-paul-dalby-phd-gia-affiliated-a792165': 1})\n",
      "Scrapping activity of https://www.linkedin.com/in/maksym-nechepurenko-23541810\n",
      "total number of posts are:  17\n",
      "total number of urls are:  4\n",
      "interacted with whom Counter({'https://www.linkedin.com/in/maksym-nechepurenko-23541810': 4, 'https://www.linkedin.com/in/yuliia-kozhurenko-b332b2126': 2, 'https://www.linkedin.com/in/bponomar': 2, 'https://www.linkedin.com/in/anna-podolian-bba1b555': 1, 'https://www.linkedin.com/groups/25827': 1, 'https://www.linkedin.com/in/iman-al-omrani-6298328': 1, 'https://www.linkedin.com/in/mdarshad': 1, 'https://www.linkedin.com/company/patikadev/': 1, 'https://www.linkedin.com/in/bemnetdev': 1, 'https://www.linkedin.com/in/charlenemaestateresa': 1, 'https://www.linkedin.com/in/vineetbudki': 1, 'https://www.linkedin.com/company/agility/': 1, 'https://www.linkedin.com/in/alchatti': 1})\n",
      "Scrapping activity of https://www.linkedin.com/in/inshatazeen\n",
      "total number of posts are:  18\n",
      "total number of urls are:  4\n",
      "interacted with whom Counter({'https://www.linkedin.com/in/ishaaqjasat': 2, 'https://www.linkedin.com/in/inshatazeen': 2, 'https://www.linkedin.com/in/asadulloh-rakhimov': 1, 'https://www.linkedin.com/in/afnan-ahmed-bh': 1, 'https://www.linkedin.com/company/islamchannel/': 1, 'https://www.linkedin.com/company/wtmabudhabi/': 1, 'https://www.linkedin.com/in/marufyusuf': 1, 'https://www.linkedin.com/in/linasbeliunas/profile-video/view/urn%3Ali%3Afsd%5Fstory%3Aurn%3Ali%3Astory%3AACoAABbscnUBlKacJbEN5USrYdfhVdH%2DffYINJk': 1, 'https://www.linkedin.com/in/ibamasood': 1, 'https://www.linkedin.com/in/ahamed-yusri-ba94441b7': 1, 'https://www.linkedin.com/in/sergios-karagiannakos': 1, 'https://www.linkedin.com/in/shantanu-naidu': 1, 'https://www.linkedin.com/in/sohaibash': 1, 'https://www.linkedin.com/in/mohamed-elastal': 1, 'https://www.linkedin.com/company/middlesexdubai/': 1, 'https://www.linkedin.com/company/tech-sisters-for-muslim-women-in-tech/': 1})\n",
      "Scrapping activity of https://www.linkedin.com/in/zahrakhan12\n",
      "total number of posts are:  18\n",
      "total number of urls are:  0\n",
      "interacted with whom Counter({'https://www.linkedin.com/in/zahrakhan12': 14, 'https://www.linkedin.com/in/babar-shaikh-0a5148113': 4})\n",
      "Scrapping activity of https://www.linkedin.com/in/annaradulovski\n",
      "total number of posts are:  18\n",
      "total number of urls are:  1\n",
      "interacted with whom Counter({'https://www.linkedin.com/in/annaradulovski': 2, 'https://www.linkedin.com/in/christinamelling': 2, 'https://www.linkedin.com/in/selen-demir': 1, 'https://www.linkedin.com/in/xavier-bettel': 1, 'https://www.linkedin.com/in/irynasavytska': 1, 'https://www.linkedin.com/in/reshma-saujani': 1, 'https://www.linkedin.com/in/edwigeatransformationalleader': 1, 'https://www.linkedin.com/in/deniseleeyeh': 1, 'https://www.linkedin.com/in/radulovski': 1, 'https://www.linkedin.com/in/elainezhou': 1, 'https://www.linkedin.com/in/maellegavet': 1, 'https://www.linkedin.com/in/annikaallen': 1, 'https://www.linkedin.com/in/gloriajohnsongoins': 1, 'https://www.linkedin.com/in/asif-sadiq-mbe-b8a58b14': 1, 'https://www.linkedin.com/in/upasnagautam': 1, 'https://www.linkedin.com/in/annastasia-beharie-4a2a4a131': 1})\n",
      "Scrapping activity of https://www.linkedin.com/in/milyasyousuf\n",
      "total number of posts are:  21\n",
      "total number of urls are:  3\n",
      "interacted with whom Counter({'https://www.linkedin.com/in/muhammadibrahim24': 2, 'https://www.linkedin.com/in/milyasyousuf': 2, 'https://www.linkedin.com/in/yoroomie': 2, 'https://www.linkedin.com/in/jesseoue/profile-video/view/urn%3Ali%3Afsd%5Fstory%3Aurn%3Ali%3Astory%3AACoAAABxN1IBk82L%5FjCY2opFKNZpSCCcsr6X1MU': 1, 'https://www.linkedin.com/in/elimydlarz': 1, 'https://www.linkedin.com/in/iamanumkamran': 1, 'https://www.linkedin.com/in/muhammad-arsalan-ahmed-4a3288106': 1, 'https://www.linkedin.com/in/mzeeshansikander': 1, 'https://www.linkedin.com/in/aseemjibran': 1, 'https://www.linkedin.com/in/agazdecki': 1, 'https://www.linkedin.com/in/kyle-poyar': 1, 'https://www.linkedin.com/in/alexandre-depres-b8970a47': 1, 'https://www.linkedin.com/in/sibtainraza': 1, 'https://www.linkedin.com/in/deepakskrishnan': 1, 'https://www.linkedin.com/in/adrus-qasim-036a411b4': 1, 'https://www.linkedin.com/in/muhammad-mudabbir-majeed-atm-khi': 1, 'https://www.linkedin.com/in/mansoor-mehboob-chaudhry-8a934617': 1, 'https://www.linkedin.com/in/malieffendy': 1})\n",
      "Scrapping activity of https://www.linkedin.com/in/eczachly\n"
     ]
    }
   ],
   "source": [
    "for profile,count in conn_names.items():\n",
    "    if count >=0:\n",
    "        get_recent_activity(profile)"
   ]
  },
  {
   "cell_type": "markdown",
   "metadata": {},
   "source": []
  },
  {
   "cell_type": "code",
   "execution_count": null,
   "metadata": {},
   "outputs": [],
   "source": []
  }
 ],
 "metadata": {
  "kernelspec": {
   "display_name": "crawler",
   "language": "python",
   "name": "crawler"
  },
  "language_info": {
   "codemirror_mode": {
    "name": "ipython",
    "version": 3
   },
   "file_extension": ".py",
   "mimetype": "text/x-python",
   "name": "python",
   "nbconvert_exporter": "python",
   "pygments_lexer": "ipython3",
   "version": "3.8.16"
  }
 },
 "nbformat": 4,
 "nbformat_minor": 4
}
